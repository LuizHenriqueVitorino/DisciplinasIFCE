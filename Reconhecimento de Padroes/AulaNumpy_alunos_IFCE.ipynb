{
  "cells": [
    {
      "cell_type": "markdown",
      "metadata": {
        "id": "i8moYMLk3mSL"
      },
      "source": [
        "# Introdução ao `numpy`"
      ]
    },
    {
      "cell_type": "code",
      "execution_count": 42,
      "metadata": {
        "id": "KZTZcDGW20Y6"
      },
      "outputs": [],
      "source": [
        "import numpy as np\n",
        "import matplotlib.pyplot as plt  # Biblioteca para gerar gráficos"
      ]
    },
    {
      "cell_type": "markdown",
      "metadata": {
        "id": "jbLN6SejnwoL"
      },
      "source": [
        "Vamos criar umas matrizes e vetores para começar...\n",
        "\n",
        "$$\\begin{aligned}\n",
        "\\boldsymbol{A} &= \\begin{bmatrix}2 & 0\\\\ 4 & 6\\\\ 8 & 2\\end{bmatrix}\\ &\n",
        "\\boldsymbol{B} &= \\begin{bmatrix}1 & 3\\\\ 5 & 7\\end{bmatrix}\\\\\\\\\n",
        "\\boldsymbol{v}_1 &= \\begin{bmatrix}5 & 3\\end{bmatrix}\\ &\n",
        "\\boldsymbol{v}_2 &= \\begin{bmatrix}9 & 2 & 1\\end{bmatrix}\n",
        "\\end{aligned}$$"
      ]
    },
    {
      "cell_type": "code",
      "execution_count": 43,
      "metadata": {
        "id": "JDS1cgwngp-B"
      },
      "outputs": [],
      "source": [
        "A = np.array([[2,0],[4,6],[8,2]])\n",
        "B = np.array([[1,3],[5,7]])\n",
        "v1 = np.array([5,3])\n",
        "v2 = np.array([9,2,1])"
      ]
    },
    {
      "cell_type": "code",
      "execution_count": 44,
      "metadata": {
        "colab": {
          "base_uri": "https://localhost:8080/"
        },
        "id": "lCM_Bmf4hzlv",
        "outputId": "d91e2b9f-76e0-4685-e88b-dfefc6cb0d14"
      },
      "outputs": [
        {
          "name": "stdout",
          "output_type": "stream",
          "text": [
            "Dimensão de A: (3, 2)\n",
            "Dimensão de B: (2, 2)\n",
            "Dimensão de v1: (2,)\n",
            "Dimensão de v2: (2,)\n"
          ]
        }
      ],
      "source": [
        "print(\"Dimensão de A:\", A.shape)\n",
        "print(\"Dimensão de B:\", B.shape)\n",
        "print(\"Dimensão de v1:\", v1.shape)\n",
        "print(\"Dimensão de v2:\", v1.shape)"
      ]
    },
    {
      "cell_type": "markdown",
      "metadata": {
        "id": "MT1byC_wJH-k"
      },
      "source": [
        "$$\\begin{aligned}\n",
        "\\boldsymbol{A} &= \\begin{bmatrix}2 & 0\\\\ 4 & 6\\\\ 8 & 2\\end{bmatrix}\\\\\n",
        "\\boldsymbol{A}^{\\top} &= \\begin{bmatrix}2 & 4 & 8\\\\ 0 & 6 & 2\\end{bmatrix}\n",
        "\\end{aligned}$$"
      ]
    },
    {
      "cell_type": "code",
      "execution_count": 45,
      "metadata": {
        "colab": {
          "base_uri": "https://localhost:8080/"
        },
        "id": "nEHKdCDaJH-l",
        "outputId": "7e45fddf-7a9e-4e39-8d72-450c8876d9d0"
      },
      "outputs": [
        {
          "name": "stdout",
          "output_type": "stream",
          "text": [
            "Matriz original:\n",
            "[[2 0]\n",
            " [4 6]\n",
            " [8 2]]\n",
            "Matriz transposta:\n",
            "[[2 4 8]\n",
            " [0 6 2]]\n"
          ]
        }
      ],
      "source": [
        "print(\"Matriz original:\")\n",
        "print(A)\n",
        "print(\"Matriz transposta:\")\n",
        "print(A.T)"
      ]
    },
    {
      "cell_type": "markdown",
      "metadata": {
        "id": "oe-tmI5o_kcT"
      },
      "source": [
        "$$\\begin{aligned}\n",
        "\\boldsymbol{A}[0] &= \\begin{bmatrix}2 & 0\\end{bmatrix}\\\\\n",
        "\\boldsymbol{A}[[0,2]] &= \\begin{bmatrix}2 & 0\\\\ 8 & 2\\end{bmatrix}\\\\\n",
        "\\end{aligned}$$"
      ]
    },
    {
      "cell_type": "code",
      "execution_count": 46,
      "metadata": {
        "colab": {
          "base_uri": "https://localhost:8080/"
        },
        "id": "r-crrwNWw5Bo",
        "outputId": "a713f9ae-9eae-45ae-cbd3-0be5c7009664"
      },
      "outputs": [
        {
          "name": "stdout",
          "output_type": "stream",
          "text": [
            "Primeira linha de A:\n",
            "[2 0] dimensão: (2,)\n",
            "Primeira e terceira linha de A:\n",
            "[[2 0]\n",
            " [8 2]] dimensão: (2, 2)\n",
            "Primeira linha de A (mantendo 2 dimensões):\n",
            "[[2 0]] dimensão: (1, 2)\n"
          ]
        }
      ],
      "source": [
        "print(\"Primeira linha de A:\")\n",
        "print(A[0], \"dimensão:\", A[0].shape) # Primeira linha de A\n",
        "print(\"Primeira e terceira linha de A:\")\n",
        "print(A[[0,2]], \"dimensão:\", A[[0,2]].shape) # Primeira e terceira linha de A\n",
        "print(\"Primeira linha de A (mantendo 2 dimensões):\")\n",
        "print(A[[0]], \"dimensão:\", A[[0]].shape) # Primeira linha de A (mantendo 2 dimensões)"
      ]
    },
    {
      "cell_type": "markdown",
      "metadata": {
        "id": "aPuiGsipo1DA"
      },
      "source": [
        "$$\\begin{aligned}\n",
        "\\boldsymbol{A}[:,0] &= \\begin{bmatrix}2 & 4 & 8\\end{bmatrix}\\\\\n",
        "\\boldsymbol{A}[:,[0]] &= \\begin{bmatrix}2 \\\\ 4 \\\\ 8\\end{bmatrix}\n",
        "\\end{aligned}$$"
      ]
    },
    {
      "cell_type": "code",
      "execution_count": 47,
      "metadata": {
        "colab": {
          "base_uri": "https://localhost:8080/"
        },
        "id": "KKjo_gvZmYgm",
        "outputId": "76e128c5-e430-4dd9-d733-b20a5fe5ec6d"
      },
      "outputs": [
        {
          "name": "stdout",
          "output_type": "stream",
          "text": [
            "Primeira coluna do A:\n",
            "[2 4 8] dimensão: (3,)\n",
            "Primeira e segunda coluna do A:\n",
            "[[2 0]\n",
            " [4 6]\n",
            " [8 2]] dimensão: (3, 2)\n",
            "Primeira coluna do A (mantendo 2 dimensões):\n",
            "[[2]\n",
            " [4]\n",
            " [8]] dimensão: (3, 1)\n"
          ]
        }
      ],
      "source": [
        "print(\"Primeira coluna do A:\")\n",
        "print(A[:,0], \"dimensão:\", A[:,0].shape) # Primeira coluna do A\n",
        "print(\"Primeira e segunda coluna do A:\")\n",
        "print(A[:,[0,1]], \"dimensão:\", A[:,[0,1]].shape) # Primeira e segunda coluna do A\n",
        "print(\"Primeira coluna do A (mantendo 2 dimensões):\")\n",
        "print(A[:,[0]], \"dimensão:\", A[:,[0]].shape) # Primeira coluna do A (mantendo 2 dimensões)"
      ]
    },
    {
      "cell_type": "markdown",
      "metadata": {
        "id": "4IUq7OYdJH-n"
      },
      "source": [
        "$$\\begin{aligned}\n",
        "\\left[\\begin{bmatrix}2 & 4 & 8\\end{bmatrix}; \\begin{bmatrix}1 & 2 & 3\\end{bmatrix}\\right] &= \\begin{bmatrix}2 & 4 & 8\\\\1 & 2 & 3\\end{bmatrix}\\\\\n",
        "\\left[\\begin{bmatrix}2 \\\\ 4 \\\\ 8\\end{bmatrix}, \\begin{bmatrix}1 \\\\ 2 \\\\ 3\\end{bmatrix}\\right] &= \\begin{bmatrix}2 & 1 \\\\ 4 & 2 \\\\ 8 & 3\\end{bmatrix}\n",
        "\\end{aligned}$$"
      ]
    },
    {
      "cell_type": "code",
      "execution_count": 48,
      "metadata": {
        "colab": {
          "base_uri": "https://localhost:8080/"
        },
        "id": "lt8OiK-qJH-n",
        "outputId": "bed40538-96b2-4125-e221-b4bbce61f636"
      },
      "outputs": [
        {
          "name": "stdout",
          "output_type": "stream",
          "text": [
            "[[2 4 8]] dimensão: (1, 3)\n",
            "[[1 2 3]] dimensão: (1, 3)\n",
            "[[2 4 8]\n",
            " [1 2 3]] dimensão: (2, 3)\n"
          ]
        }
      ],
      "source": [
        "a = np.array([2, 4, 8]).reshape((1,-1))\n",
        "b = np.array([1, 2, 3]).reshape((1,-1))\n",
        "ab = np.r_[a,b]\n",
        "\n",
        "print(a, \"dimensão:\", a.shape)\n",
        "print(b, \"dimensão:\", b.shape)\n",
        "print(ab, \"dimensão:\", ab.shape) # row stack"
      ]
    },
    {
      "cell_type": "code",
      "execution_count": 49,
      "metadata": {
        "colab": {
          "base_uri": "https://localhost:8080/"
        },
        "id": "SyfCpJAiJH-o",
        "outputId": "960c4852-1867-4285-cae2-7803b4495d06"
      },
      "outputs": [
        {
          "name": "stdout",
          "output_type": "stream",
          "text": [
            "[[2]\n",
            " [4]\n",
            " [8]] dimensão: (3, 1)\n",
            "[[1]\n",
            " [2]\n",
            " [3]] dimensão: (3, 1)\n",
            "[[2 1]\n",
            " [4 2]\n",
            " [8 3]] dimensão: (3, 2)\n"
          ]
        }
      ],
      "source": [
        "c = np.array([2, 4, 8]).reshape((-1,1))\n",
        "d = np.array([1, 2, 3]).reshape((-1,1))\n",
        "cd = np.c_[c,d]\n",
        "\n",
        "print(c, \"dimensão:\", c.shape)\n",
        "print(d, \"dimensão:\", d.shape)\n",
        "print(cd, \"dimensão:\", cd.shape) # column stack"
      ]
    },
    {
      "cell_type": "markdown",
      "metadata": {
        "id": "fVB8eWYuA56y"
      },
      "source": [
        "## Matrizes notáveis\n",
        "\n",
        "$$\\begin{aligned}\n",
        "\\boldsymbol{I}_n = \\mathtt{np.eye(n)} &= \\begin{bmatrix}1 & 0 & \\ldots\\\\ 0 & 1 & \\ldots\\\\ \\vdots&\\vdots&\\vdots\\\\ 0 & \\ldots & 1\\end{bmatrix}&\n",
        "\\boldsymbol{0}_{n,m} = \\mathtt{np.zeros((n,m))} &= \\begin{bmatrix}0 & 0 & \\ldots\\\\ 0 & 0 & \\ldots\\\\ \\vdots&\\vdots&\\vdots\\\\ 0 & \\ldots & 0\\end{bmatrix}\\\\\n",
        "\\boldsymbol{1}_{n,m} = \\mathtt{np.ones((n,m))} &= \\begin{bmatrix}1 & 1 & \\ldots\\\\ 1 & 1 & \\ldots\\\\ \\vdots&\\vdots&\\vdots\\\\ 1 & \\ldots & 1\\end{bmatrix}\\\\\n",
        "\\end{aligned}$$"
      ]
    },
    {
      "cell_type": "code",
      "execution_count": 50,
      "metadata": {
        "colab": {
          "base_uri": "https://localhost:8080/"
        },
        "id": "2KZ335xCB20E",
        "outputId": "0897f9bb-8067-4b03-f62a-a4d0b8560aa3"
      },
      "outputs": [
        {
          "name": "stdout",
          "output_type": "stream",
          "text": [
            "Matriz identidade de ordem 5:\n",
            "[[1. 0. 0. 0. 0.]\n",
            " [0. 1. 0. 0. 0.]\n",
            " [0. 0. 1. 0. 0.]\n",
            " [0. 0. 0. 1. 0.]\n",
            " [0. 0. 0. 0. 1.]]\n",
            "Matriz de zeros 5x3:\n",
            "[[0. 0. 0.]\n",
            " [0. 0. 0.]\n",
            " [0. 0. 0.]\n",
            " [0. 0. 0.]\n",
            " [0. 0. 0.]]\n",
            "Matriz de uns 3x1:\n",
            "[[1.]\n",
            " [1.]\n",
            " [1.]]\n"
          ]
        }
      ],
      "source": [
        "print(\"Matriz identidade de ordem 5:\")\n",
        "print(np.eye(5))\n",
        "print(\"Matriz de zeros 5x3:\")\n",
        "print(np.zeros((5,3)))\n",
        "print(\"Matriz de uns 3x1:\")\n",
        "print(np.ones((3,1)))"
      ]
    },
    {
      "cell_type": "markdown",
      "metadata": {
        "id": "4YTOi0kRJH-p"
      },
      "source": [
        "Além dessas matrizes notáveis, também podemos fazer matrizes aleatórias:\n",
        "\n",
        "`np.random.rand(n,m)` é uma matrix $n$ por $m$ onde $[\\mathtt{np.random.rand(n,m)}]_{ij} \\sim \\mathcal{U}(0,1)$.\n",
        "\n",
        "Ou seja, $[\\mathtt{np.random.rand(n,m)}]_{ij} \\in [0,1)$\n",
        "\n",
        "`np.random.randn(n,m)` é uma matrix $n$ por $m$ onde $[\\mathtt{np.random.randn(n,m)}]_{ij} \\sim \\mathcal{N}(0,1)$\n",
        "\n",
        "Ou seja, $[\\mathtt{np.random.randn(n,m)}]_{ij} \\in (-\\infty,+\\infty)$"
      ]
    },
    {
      "cell_type": "code",
      "execution_count": 51,
      "metadata": {
        "colab": {
          "base_uri": "https://localhost:8080/"
        },
        "id": "Dwsq6BoxJH-p",
        "outputId": "0c32dd69-62b3-4313-f7a8-58f3d45d3c59"
      },
      "outputs": [
        {
          "name": "stdout",
          "output_type": "stream",
          "text": [
            "Matriz 5x3 de números aleatórios amostrados de U(0,1):\n",
            "[[0.86637153 0.52294005 0.53915715]\n",
            " [0.56932401 0.69218363 0.88627308]\n",
            " [0.61010166 0.97863134 0.24900772]\n",
            " [0.90223133 0.2588174  0.47512158]\n",
            " [0.5287985  0.03397523 0.13795713]]\n",
            "Matriz 2x2 de números aleatórios amostrados de N(0,1):\n",
            "[[ 0.18863541 -2.88319681]\n",
            " [ 0.37107412  0.97700021]]\n"
          ]
        }
      ],
      "source": [
        "print(\"Matriz 5x3 de números aleatórios amostrados de U(0,1):\")\n",
        "print(np.random.rand(5,3))\n",
        "print(\"Matriz 2x2 de números aleatórios amostrados de N(0,1):\")\n",
        "print(np.random.randn(2,2))"
      ]
    },
    {
      "cell_type": "markdown",
      "metadata": {
        "id": "HpiBGmIjmmXO"
      },
      "source": [
        "## Operações lineares"
      ]
    },
    {
      "cell_type": "markdown",
      "metadata": {
        "id": "hF53unHnsP2W"
      },
      "source": [
        "Produto de escalares por matrizes:\n",
        "$$\\begin{aligned}\n",
        "5\\boldsymbol{A} &= \\begin{bmatrix}2\\cdot 5 & 0\\cdot 5\\\\ 4\\cdot 5 & 6\\cdot 5\\\\ 8\\cdot 5 & 2\\cdot 5\\end{bmatrix}\\\\[0.3em]\n",
        "&= \\begin{bmatrix}10 & 0\\\\ 20 & 30\\\\ 40 & 10\\end{bmatrix}\n",
        "\\end{aligned}$$"
      ]
    },
    {
      "cell_type": "code",
      "execution_count": 52,
      "metadata": {
        "colab": {
          "base_uri": "https://localhost:8080/"
        },
        "id": "K1mE0VBilKIY",
        "outputId": "a92699ef-b0ac-4798-d4b3-6341863e9e2d"
      },
      "outputs": [
        {
          "name": "stdout",
          "output_type": "stream",
          "text": [
            "[[10  0]\n",
            " [20 30]\n",
            " [40 10]]\n"
          ]
        }
      ],
      "source": [
        "print(5 * A)"
      ]
    },
    {
      "cell_type": "markdown",
      "metadata": {
        "id": "MdEFzm9Bmvmc"
      },
      "source": [
        "Soma de matrizes:\n",
        "$$\\begin{aligned}\n",
        "\\boldsymbol{A}+\\boldsymbol{A} &= \\begin{bmatrix}2 & 0\\\\ 4 & 6\\\\ 8 & 2\\end{bmatrix}+\\begin{bmatrix}2 & 0\\\\ 4 & 6\\\\ 8 & 2\\end{bmatrix}\\\\[0.3em]\n",
        "&= \\begin{bmatrix}4 & 0\\\\ 8 & 12\\\\ 26 & 4\\end{bmatrix}\n",
        "\\end{aligned}$$"
      ]
    },
    {
      "cell_type": "code",
      "execution_count": 53,
      "metadata": {
        "colab": {
          "base_uri": "https://localhost:8080/"
        },
        "id": "mgxWPeBfmtgF",
        "outputId": "bc545f4e-a2d3-48a6-c217-d5de9773e8ae"
      },
      "outputs": [
        {
          "name": "stdout",
          "output_type": "stream",
          "text": [
            "[[ 4  0]\n",
            " [ 8 12]\n",
            " [16  4]]\n"
          ]
        }
      ],
      "source": [
        "print(A + A)"
      ]
    },
    {
      "cell_type": "markdown",
      "metadata": {
        "id": "Z6MOwqaNnH1S",
        "tags": []
      },
      "source": [
        "Produto com broadcast (difusão) de um vetor por uma matriz:\n",
        "$$\\begin{aligned}\n",
        "\\boldsymbol{v}_1 \\bullet \\boldsymbol{A} &= \\begin{bmatrix}5 & 3\\end{bmatrix}\\bullet\\begin{bmatrix}2 & 0\\\\ 4 & 6\\\\ 8 & 2\\end{bmatrix}\\\\[0.3em]\n",
        "&= \\begin{bmatrix}5\\cdot 2 & 3\\cdot 0\\\\ 5\\cdot 4 & 3\\cdot 6\\\\ 5\\cdot 8 & 3\\cdot 2\\end{bmatrix}\\\\\n",
        "&= \\begin{bmatrix}10 & 0\\\\ 20 & 18\\\\ 40 & 6\\end{bmatrix}\\\\\n",
        "\\end{aligned}$$"
      ]
    },
    {
      "cell_type": "code",
      "execution_count": 54,
      "metadata": {
        "colab": {
          "base_uri": "https://localhost:8080/"
        },
        "id": "jAkvCHYfnCPF",
        "outputId": "513751bc-2a4e-4629-dd59-e4835307a71a"
      },
      "outputs": [
        {
          "name": "stdout",
          "output_type": "stream",
          "text": [
            "[[10  0]\n",
            " [20 18]\n",
            " [40  6]]\n"
          ]
        }
      ],
      "source": [
        "print(v1 * A)"
      ]
    },
    {
      "cell_type": "markdown",
      "metadata": {
        "id": "qKXp3XlQk4Vc"
      },
      "source": [
        "Soma com broadcast (difusão) de um vetor por uma matriz:\n",
        "$$\\begin{aligned}\n",
        "\\boldsymbol{v}_1 \\oplus \\boldsymbol{A} &= \\begin{bmatrix}5 & 3\\end{bmatrix}\\oplus\\begin{bmatrix}2 & 0\\\\ 4 & 6\\\\ 8 & 2\\end{bmatrix}\\\\[0.3em]\n",
        "&= \\begin{bmatrix}5 & 3\\\\ 5 & 3\\\\ 5 & 3\\end{bmatrix}+\\begin{bmatrix}2 & 0\\\\ 4 & 6\\\\ 8 & 2\\end{bmatrix}\\\\\n",
        "&= \\begin{bmatrix}7 & 3\\\\ 9 & 9\\\\ 13 & 5\\end{bmatrix}\\\\\n",
        "\\end{aligned}$$"
      ]
    },
    {
      "cell_type": "code",
      "execution_count": 55,
      "metadata": {
        "colab": {
          "base_uri": "https://localhost:8080/"
        },
        "id": "Kfr0uegMkws5",
        "outputId": "f4635ecf-08a0-4a80-b235-cd2ba8465117"
      },
      "outputs": [
        {
          "name": "stdout",
          "output_type": "stream",
          "text": [
            "[[ 7  3]\n",
            " [ 9  9]\n",
            " [13  5]]\n"
          ]
        }
      ],
      "source": [
        "print(v1 + A)"
      ]
    },
    {
      "cell_type": "markdown",
      "metadata": {
        "id": "0Q2GCSHEJH-u"
      },
      "source": [
        "Cuidado com as dimensões das variáveis:"
      ]
    },
    {
      "cell_type": "code",
      "execution_count": 56,
      "metadata": {
        "colab": {
          "base_uri": "https://localhost:8080/"
        },
        "id": "kQ1gTxkteYEE",
        "outputId": "22b3007c-d919-426e-b7ea-de9023afa71b"
      },
      "outputs": [
        {
          "name": "stdout",
          "output_type": "stream",
          "text": [
            "Vetor v2:\n",
            "[9 2 1] dimensão: (3,)\n",
            "Matriz A:\n",
            "[[2 0]\n",
            " [4 6]\n",
            " [8 2]] dimensão: (3, 2)\n",
            "operands could not be broadcast together with shapes (3,) (3,2) \n"
          ]
        }
      ],
      "source": [
        "print(\"Vetor v2:\")\n",
        "print(v2, \"dimensão:\", v2.shape)\n",
        "print(\"Matriz A:\")\n",
        "print(A, \"dimensão:\", A.shape)\n",
        "try:\n",
        "    v2 + A\n",
        "except Exception as e:\n",
        "    print(e)"
      ]
    },
    {
      "cell_type": "code",
      "execution_count": 57,
      "metadata": {
        "colab": {
          "base_uri": "https://localhost:8080/"
        },
        "id": "X5BP2ZSClM5t",
        "outputId": "c2125b76-9628-48b5-ff6e-851c46de0315"
      },
      "outputs": [
        {
          "name": "stdout",
          "output_type": "stream",
          "text": [
            "Matriz A:\n",
            "[[2 0]\n",
            " [4 6]\n",
            " [8 2]] dimensão: (3, 2)\n",
            "Matriz B:\n",
            "[[1 3]\n",
            " [5 7]] dimensão: (2, 2)\n",
            "operands could not be broadcast together with shapes (3,2) (2,2) \n"
          ]
        }
      ],
      "source": [
        "print(\"Matriz A:\")\n",
        "print(A, \"dimensão:\", A.shape)\n",
        "print(\"Matriz B:\")\n",
        "print(B, \"dimensão:\", B.shape)\n",
        "try:\n",
        "    A + B\n",
        "except Exception as e:\n",
        "    print(e)"
      ]
    },
    {
      "cell_type": "markdown",
      "metadata": {
        "id": "yBrNgUe8JH-v"
      },
      "source": [
        "## Operações não-lineares"
      ]
    },
    {
      "cell_type": "markdown",
      "metadata": {
        "id": "j7cpcUPpJH-v"
      },
      "source": [
        "$$\\begin{aligned}\n",
        "\\boldsymbol{A} &= \\begin{bmatrix}2 & 0\\\\ 4 & 6\\\\ 8 & 2\\end{bmatrix}\\\\\n",
        "\\mathtt{A ** 2} &= \\begin{bmatrix}2^2 & 0^2\\\\ 4^2 & 6^2\\\\ 8^2 & 2^2\\end{bmatrix}\n",
        "\\end{aligned}$$"
      ]
    },
    {
      "cell_type": "code",
      "execution_count": 58,
      "metadata": {
        "colab": {
          "base_uri": "https://localhost:8080/"
        },
        "id": "LVnmqexoJH-v",
        "outputId": "38bdfb00-bc53-4e2d-eb04-9a9b03652e23"
      },
      "outputs": [
        {
          "name": "stdout",
          "output_type": "stream",
          "text": [
            "[[ 4  0]\n",
            " [16 36]\n",
            " [64  4]]\n"
          ]
        }
      ],
      "source": [
        "print(A ** 2)"
      ]
    },
    {
      "cell_type": "markdown",
      "metadata": {
        "id": "XW1WwJPlJH-v"
      },
      "source": [
        "$$\\begin{aligned}\n",
        "\\boldsymbol{A} &= \\begin{bmatrix}2 & 0\\\\ 4 & 6\\\\ 8 & 2\\end{bmatrix}\\\\\n",
        "\\mathtt{np.sqrt(A)} &= \\begin{bmatrix}\\sqrt{2} & \\sqrt{0}\\\\ \\sqrt{4} & \\sqrt{6}\\\\ \\sqrt{8} & \\sqrt{2}\\end{bmatrix}\\\\\n",
        "\\mathtt{A ** 0.5} &= \\begin{bmatrix}2^\\frac{1}{2} & 0^\\frac{1}{2}\\\\ 4^\\frac{1}{2} & 6^\\frac{1}{2}\\\\ 8^\\frac{1}{2} & 2^\\frac{1}{2}\\end{bmatrix}\n",
        "\\end{aligned}$$"
      ]
    },
    {
      "cell_type": "code",
      "execution_count": 59,
      "metadata": {
        "colab": {
          "base_uri": "https://localhost:8080/"
        },
        "id": "AF8ochjJJH-w",
        "outputId": "fdb0ede7-e292-43ae-cf3f-3d55fe974b90"
      },
      "outputs": [
        {
          "name": "stdout",
          "output_type": "stream",
          "text": [
            "[[1.41421356 0.        ]\n",
            " [2.         2.44948974]\n",
            " [2.82842712 1.41421356]]\n",
            "[[1.41421356 0.        ]\n",
            " [2.         2.44948974]\n",
            " [2.82842712 1.41421356]]\n"
          ]
        }
      ],
      "source": [
        "print(np.sqrt(A))\n",
        "print(A ** 0.5)"
      ]
    },
    {
      "cell_type": "markdown",
      "metadata": {
        "id": "dRC8bXOqJH-w"
      },
      "source": [
        "## Operações de agregação"
      ]
    },
    {
      "cell_type": "markdown",
      "metadata": {
        "id": "p0dzkaf8JH-w"
      },
      "source": [
        "$$\\begin{aligned}\n",
        "\\boldsymbol{A} &= \\begin{bmatrix}2 & 0\\\\ 4 & 6\\\\ 8 & 2\\end{bmatrix}\\\\\n",
        "\\mathtt{np.mean(A)} &= \\frac{2 + 0 + 4 + 6 + 8 + 2}{2\\cdot 3}\\\\\n",
        "\\mathtt{np.sum(A)} &= 2 + 0 + 4 + 6 + 8 + 2\\\\\n",
        "\\mathtt{np.prod(A)} &= 2 \\cdot 0 \\cdot 4 \\cdot 6 \\cdot 8 \\cdot 2\\\\\n",
        "\\end{aligned}$$"
      ]
    },
    {
      "cell_type": "code",
      "execution_count": 60,
      "metadata": {
        "colab": {
          "base_uri": "https://localhost:8080/"
        },
        "id": "QxrVFwruJH-w",
        "outputId": "329cc255-7ab6-4b19-9046-36874e108c44"
      },
      "outputs": [
        {
          "data": {
            "text/plain": [
              "(3.6666666666666665, 22, 0)"
            ]
          },
          "execution_count": 60,
          "metadata": {},
          "output_type": "execute_result"
        }
      ],
      "source": [
        "np.mean(A), np.sum(A), np.prod(A)"
      ]
    },
    {
      "cell_type": "code",
      "execution_count": 61,
      "metadata": {
        "colab": {
          "base_uri": "https://localhost:8080/"
        },
        "id": "thb_YWnqJH-x",
        "outputId": "79be3f3b-9bf7-416e-941c-d17c321bac89"
      },
      "outputs": [
        {
          "data": {
            "text/plain": [
              "(3.6666666666666665, 22, 0)"
            ]
          },
          "execution_count": 61,
          "metadata": {},
          "output_type": "execute_result"
        }
      ],
      "source": [
        "A.mean(), A.sum(), A.prod()"
      ]
    },
    {
      "cell_type": "markdown",
      "metadata": {
        "id": "2OusPMZfJH-x"
      },
      "source": [
        "$$\\begin{aligned}\n",
        "\\boldsymbol{A} &= \\begin{bmatrix}2 & 0\\\\ 4 & 6\\\\ 8 & 2\\end{bmatrix}\\\\\n",
        "\\mathtt{np.mean(A, axis=0)} &= \\frac{1}{3}\\begin{bmatrix}2 + 4 + 8 & 0 + 6 + 2\\end{bmatrix}\\\\\n",
        "\\mathtt{np.sum(A, axis=0)} &= \\begin{bmatrix}2 + 4 + 8 & 0 + 6 + 2\\end{bmatrix}\\\\\n",
        "\\mathtt{np.prod(A, axis=0)} &= \\begin{bmatrix}2 \\cdot 4 \\cdot 8 & 0 \\cdot 6 \\cdot 2\\end{bmatrix}\\\\\n",
        "\\end{aligned}$$"
      ]
    },
    {
      "cell_type": "code",
      "execution_count": 62,
      "metadata": {
        "colab": {
          "base_uri": "https://localhost:8080/"
        },
        "id": "ozdAFMfMJH-x",
        "outputId": "774c9f96-27e1-4c40-85d5-fd3e8e48f29f"
      },
      "outputs": [
        {
          "data": {
            "text/plain": [
              "(array([4.66666667, 2.66666667]), array([14,  8]), array([64,  0]))"
            ]
          },
          "execution_count": 62,
          "metadata": {},
          "output_type": "execute_result"
        }
      ],
      "source": [
        "np.mean(A, axis=0), np.sum(A, axis=0), np.prod(A, axis=0)"
      ]
    },
    {
      "cell_type": "code",
      "execution_count": 63,
      "metadata": {
        "colab": {
          "base_uri": "https://localhost:8080/"
        },
        "id": "pIBGfx-cJH-y",
        "outputId": "d61eb77c-7d8b-437f-b316-c5d7b698ff52"
      },
      "outputs": [
        {
          "data": {
            "text/plain": [
              "(array([4.66666667, 2.66666667]), array([14,  8]), array([64,  0]))"
            ]
          },
          "execution_count": 63,
          "metadata": {},
          "output_type": "execute_result"
        }
      ],
      "source": [
        "A.mean(axis=0), A.sum(axis=0), A.prod(axis=0)"
      ]
    },
    {
      "cell_type": "markdown",
      "metadata": {
        "id": "BMOJD17ZJH-y"
      },
      "source": [
        "$$\\begin{aligned}\n",
        "\\boldsymbol{A} &= \\begin{bmatrix}2 & 0\\\\ 4 & 6\\\\ 8 & 2\\end{bmatrix}\\\\\n",
        "\\mathtt{np.mean(A, axis=1)} &= \\frac{1}{2}\\begin{bmatrix}2 + 0 & 4 + 6 & 8 + 2\\end{bmatrix}\\\\\n",
        "\\mathtt{np.sum(A, axis=1)} &= \\begin{bmatrix}2 + 0 & 4 + 6 & 8 + 2\\end{bmatrix}\\\\\n",
        "\\mathtt{np.prod(A, axis=1)} &= \\begin{bmatrix}2 \\cdot 0 & 4 \\cdot 6 & 8 \\cdot 2\\end{bmatrix}\\\\\n",
        "\\end{aligned}$$"
      ]
    },
    {
      "cell_type": "code",
      "execution_count": 64,
      "metadata": {
        "colab": {
          "base_uri": "https://localhost:8080/"
        },
        "id": "5SmJzeaIJH-y",
        "outputId": "afea6cdc-bf2a-4ae4-877f-c8bceb2df43e"
      },
      "outputs": [
        {
          "data": {
            "text/plain": [
              "(array([1., 5., 5.]), array([ 2, 10, 10]), array([ 0, 24, 16]))"
            ]
          },
          "execution_count": 64,
          "metadata": {},
          "output_type": "execute_result"
        }
      ],
      "source": [
        "np.mean(A, axis=1), np.sum(A, axis=1), np.prod(A, axis=1)"
      ]
    },
    {
      "cell_type": "code",
      "execution_count": 65,
      "metadata": {
        "colab": {
          "base_uri": "https://localhost:8080/"
        },
        "id": "NY7djypCJH-y",
        "outputId": "329fb80f-dcc9-4a35-f7af-06ac9658e263"
      },
      "outputs": [
        {
          "data": {
            "text/plain": [
              "(array([1., 5., 5.]), array([ 2, 10, 10]), array([ 0, 24, 16]))"
            ]
          },
          "execution_count": 65,
          "metadata": {},
          "output_type": "execute_result"
        }
      ],
      "source": [
        "A.mean(axis=1), A.sum(axis=1), A.prod(axis=1)"
      ]
    },
    {
      "cell_type": "code",
      "execution_count": 66,
      "metadata": {
        "colab": {
          "base_uri": "https://localhost:8080/"
        },
        "id": "0HIi0ZSKJH-z",
        "outputId": "86ea33e1-dfb4-4051-8adb-93b7329346f8"
      },
      "outputs": [
        {
          "data": {
            "text/plain": [
              "array([[4.66666667, 2.66666667]])"
            ]
          },
          "execution_count": 66,
          "metadata": {},
          "output_type": "execute_result"
        }
      ],
      "source": [
        "np.mean(A, axis=0, keepdims=True)"
      ]
    },
    {
      "cell_type": "code",
      "execution_count": 67,
      "metadata": {
        "colab": {
          "base_uri": "https://localhost:8080/"
        },
        "id": "kOYTDImhJH-z",
        "outputId": "941296ae-0be7-434b-be1f-6687b80ba947"
      },
      "outputs": [
        {
          "data": {
            "text/plain": [
              "array([[4.66666667, 2.66666667]])"
            ]
          },
          "execution_count": 67,
          "metadata": {},
          "output_type": "execute_result"
        }
      ],
      "source": [
        "A.mean(axis=0, keepdims=True)"
      ]
    },
    {
      "cell_type": "code",
      "execution_count": 68,
      "metadata": {
        "colab": {
          "base_uri": "https://localhost:8080/"
        },
        "id": "g0mMcg3AJH-z",
        "outputId": "f882474a-f3dc-414f-c167-d39994852ba9"
      },
      "outputs": [
        {
          "data": {
            "text/plain": [
              "array([[-2.66666667, -2.66666667],\n",
              "       [-0.66666667,  3.33333333],\n",
              "       [ 3.33333333, -0.66666667]])"
            ]
          },
          "execution_count": 68,
          "metadata": {},
          "output_type": "execute_result"
        }
      ],
      "source": [
        "A - A.mean(axis=0, keepdims=True)"
      ]
    },
    {
      "cell_type": "markdown",
      "metadata": {
        "id": "KfbeQa8DmjsG"
      },
      "source": [
        "## Multiplicação de Matrizes\n",
        "\n",
        "Para matrizes $\\boldsymbol{X} \\in \\mathbb{R}^{a\\times b}$ e $\\boldsymbol{Y} \\in \\mathbb{R}^{b\\times c}$, temos que\n",
        "$\\boldsymbol{XY} \\in \\mathbb{R}^{a\\times c}$. No Numpy, essa operação é representada por $\\texttt{X @ Y}$.\n",
        "\n",
        "A multiplicação é definida por:\n",
        "$$\\begin{aligned}\n",
        "(\\boldsymbol{XY})_{ij} = \\sum_k \\boldsymbol{X}_{ik}\\boldsymbol{Y}_{kj}\n",
        "\\end{aligned}$$"
      ]
    },
    {
      "cell_type": "code",
      "execution_count": 69,
      "metadata": {
        "colab": {
          "base_uri": "https://localhost:8080/"
        },
        "id": "gmHrXwu8khmU",
        "outputId": "a274c6d9-8fa5-4263-901a-5304106a24c8"
      },
      "outputs": [
        {
          "name": "stdout",
          "output_type": "stream",
          "text": [
            "[[ 2  6]\n",
            " [34 54]\n",
            " [18 38]]\n",
            "Dimensão de A @ B: (3, 2)\n"
          ]
        }
      ],
      "source": [
        "print(A @ B)\n",
        "print(\"Dimensão de A @ B:\", (A@B).shape)"
      ]
    },
    {
      "cell_type": "markdown",
      "metadata": {
        "id": "Y1ClnlTbJH-0"
      },
      "source": [
        "Cuidado com as dimensões das matrizes:"
      ]
    },
    {
      "cell_type": "code",
      "execution_count": 70,
      "metadata": {
        "colab": {
          "base_uri": "https://localhost:8080/"
        },
        "id": "4fXEq111mI3j",
        "outputId": "01f2cf23-a465-4f28-f76a-fcbf302ece31"
      },
      "outputs": [
        {
          "name": "stdout",
          "output_type": "stream",
          "text": [
            "matmul: Input operand 1 has a mismatch in its core dimension 0, with gufunc signature (n?,k),(k,m?)->(n?,m?) (size 3 is different from 2)\n"
          ]
        }
      ],
      "source": [
        "try:\n",
        "    B @ A\n",
        "except Exception as e:\n",
        "    print(e)"
      ]
    },
    {
      "cell_type": "code",
      "execution_count": 71,
      "metadata": {
        "colab": {
          "base_uri": "https://localhost:8080/"
        },
        "id": "yoshGOOdkoJq",
        "outputId": "ea7ea23d-84ca-430c-d20c-591bfdf83fb4"
      },
      "outputs": [
        {
          "name": "stdout",
          "output_type": "stream",
          "text": [
            "[ 28 332 204]\n",
            "[ 28 332 204]\n"
          ]
        }
      ],
      "source": [
        "print(A @ B @ v1)\n",
        "print((A @ B) @ v1)"
      ]
    },
    {
      "cell_type": "markdown",
      "metadata": {
        "id": "JZY4P3LcAZkL"
      },
      "source": [
        "### Inversão de matrizes\n",
        "Outra operação bastante comum é multiplicar uma matriz pela inversa dela...\n",
        "\n",
        "Seja $\\boldsymbol{B}$ uma matriz inversível, então $\\boldsymbol{B}^{-1} \\boldsymbol{B} = \\boldsymbol{I}$\n"
      ]
    },
    {
      "cell_type": "code",
      "execution_count": 72,
      "metadata": {
        "colab": {
          "base_uri": "https://localhost:8080/"
        },
        "id": "8BBG4KNVDVi-",
        "outputId": "6fed3110-dd6e-45bb-c7ef-5a57d0c27516"
      },
      "outputs": [
        {
          "name": "stdout",
          "output_type": "stream",
          "text": [
            "[[1 3]\n",
            " [5 7]]\n"
          ]
        }
      ],
      "source": [
        "print(B)"
      ]
    },
    {
      "cell_type": "code",
      "execution_count": 73,
      "metadata": {
        "colab": {
          "base_uri": "https://localhost:8080/"
        },
        "id": "yqhLpRf6JH-1",
        "outputId": "9022148d-7824-453f-b18e-04cd9cd5e17e"
      },
      "outputs": [
        {
          "name": "stdout",
          "output_type": "stream",
          "text": [
            "[[-0.875  0.375]\n",
            " [ 0.625 -0.125]]\n"
          ]
        }
      ],
      "source": [
        "B_inv = np.linalg.inv(B)\n",
        "print(B_inv)"
      ]
    },
    {
      "cell_type": "code",
      "execution_count": 74,
      "metadata": {
        "colab": {
          "base_uri": "https://localhost:8080/"
        },
        "id": "afY0OoX9JH-2",
        "outputId": "fdbb07ed-6daa-477f-d209-baa53d54fd8b"
      },
      "outputs": [
        {
          "name": "stdout",
          "output_type": "stream",
          "text": [
            "[[1. 0.]\n",
            " [0. 1.]]\n"
          ]
        }
      ],
      "source": [
        "print(B_inv @ B)"
      ]
    },
    {
      "cell_type": "markdown",
      "metadata": {
        "id": "xB7S7IgdJH-2"
      },
      "source": [
        "A inversa pode ser usada no produto com vetores:\n",
        "$\\boldsymbol{B}^{-1} \\boldsymbol{v}_1$"
      ]
    },
    {
      "cell_type": "code",
      "execution_count": 75,
      "metadata": {
        "colab": {
          "base_uri": "https://localhost:8080/"
        },
        "id": "McWrAEwsEUz5",
        "outputId": "c95eb3fc-d0e2-4928-da2d-e9dd9f5cdc26"
      },
      "outputs": [
        {
          "name": "stdout",
          "output_type": "stream",
          "text": [
            "[-3.25  2.75]\n"
          ]
        }
      ],
      "source": [
        "print(B_inv @ v1)"
      ]
    },
    {
      "cell_type": "markdown",
      "metadata": {
        "id": "rIK8beRdEZBQ"
      },
      "source": [
        "Porém, existe uma outra forma mais eficiente de computar a mesma coisa:\n",
        "\n",
        "Se $\\boldsymbol{B}^{-1} \\boldsymbol{v}_1 = \\boldsymbol{x}$, então $\\boldsymbol{B} \\boldsymbol{x} = \\boldsymbol{v}_1$.\n",
        "Ou seja, estamos resolvendo o sistema de equações lineares com coeficientes $\\boldsymbol{B}$ e resultado $\\boldsymbol{v}_1$"
      ]
    },
    {
      "cell_type": "code",
      "execution_count": 76,
      "metadata": {
        "colab": {
          "base_uri": "https://localhost:8080/"
        },
        "id": "ImCfS6qjEeQF",
        "outputId": "287e97e4-e8bb-4c03-cf15-36c39e953095"
      },
      "outputs": [
        {
          "name": "stdout",
          "output_type": "stream",
          "text": [
            "[-3.25  2.75]\n"
          ]
        }
      ],
      "source": [
        "print(np.linalg.solve(B,v1))"
      ]
    },
    {
      "cell_type": "markdown",
      "metadata": {
        "id": "n24XQHP9FRUi"
      },
      "source": [
        "## Leitura de arquivos com dados\n",
        "\n",
        "Normalmente os dados na disciplina serão recebidos no formato CSV. Isso significa que o dado é estruturado da seguinte maneira:\n",
        "```\n",
        "idade,pressão_sanguínea # Um cabeçalho opcional\n",
        "39,144 # Dados separados por vírgulas ou outro separador\n",
        "47,220\n",
        "....\n",
        "```"
      ]
    },
    {
      "cell_type": "code",
      "execution_count": 77,
      "metadata": {
        "colab": {
          "base_uri": "https://localhost:8080/"
        },
        "id": "QOUfDIt7GPCb",
        "outputId": "7eefbf3b-773d-4844-91dd-19c5407d6800"
      },
      "outputs": [
        {
          "data": {
            "text/plain": [
              "array([[ 47., 220.],\n",
              "       [ 45., 138.],\n",
              "       [ 47., 145.],\n",
              "       [ 65., 162.],\n",
              "       [ 46., 142.],\n",
              "       [ 67., 170.],\n",
              "       [ 42., 124.],\n",
              "       [ 67., 158.],\n",
              "       [ 56., 154.],\n",
              "       [ 64., 162.],\n",
              "       [ 56., 150.],\n",
              "       [ 59., 140.],\n",
              "       [ 34., 110.],\n",
              "       [ 42., 128.],\n",
              "       [ 48., 130.],\n",
              "       [ 45., 135.],\n",
              "       [ 17., 114.],\n",
              "       [ 20., 116.],\n",
              "       [ 19., 124.],\n",
              "       [ 36., 136.],\n",
              "       [ 50., 142.],\n",
              "       [ 39., 120.],\n",
              "       [ 21., 120.],\n",
              "       [ 44., 160.],\n",
              "       [ 53., 158.],\n",
              "       [ 63., 144.],\n",
              "       [ 29., 130.],\n",
              "       [ 25., 125.],\n",
              "       [ 69., 175.]])"
            ]
          },
          "execution_count": 77,
          "metadata": {},
          "output_type": "execute_result"
        }
      ],
      "source": [
        "pressao_dataset = np.genfromtxt('pressao.txt', delimiter=',', skip_header=1)\n",
        "pressao_dataset"
      ]
    },
    {
      "cell_type": "code",
      "execution_count": 90,
      "metadata": {},
      "outputs": [
        {
          "data": {
            "text/plain": [
              "<matplotlib.collections.PathCollection at 0x7f990199f910>"
            ]
          },
          "execution_count": 90,
          "metadata": {},
          "output_type": "execute_result"
        },
        {
          "data": {
            "image/png": "[encoded data removed]",
            "text/plain": [
              "<Figure size 640x480 with 1 Axes>"
            ]
          },
          "metadata": {},
          "output_type": "display_data"
        }
      ],
      "source": [
        "plt.scatter(pressao_dataset[:,0], pressao_dataset[:,1])"
      ]
    },
    {
      "cell_type": "markdown",
      "metadata": {
        "id": "cgfOHTQiJH-4"
      },
      "source": [
        "```\n",
        "# idade, temperatura da água, comprimento\n",
        "14,25,620\n",
        "28,25,1315\n",
        "....\n",
        "```"
      ]
    },
    {
      "cell_type": "markdown",
      "metadata": {
        "id": "dDlFNckOEiwA"
      },
      "source": [
        "## Exercícios"
      ]
    },
    {
      "cell_type": "markdown",
      "metadata": {
        "id": "cC-WOVEAEsph"
      },
      "source": [
        "### Computar a fórmula da normalização escore-Z\n",
        "\n",
        "Dado um conjunto de dados $\\boldsymbol{X} = [\\boldsymbol{x}_1, \\boldsymbol{x}_1, \\ldots, \\boldsymbol{x}_N]$, a normalização por escore-Z é dada por:\n",
        "$$\\tilde{\\boldsymbol{x_i}} = \\frac{\\boldsymbol{x_i} - \\boldsymbol{\\mu}}{\\boldsymbol{\\sigma}}$$\n",
        "\n",
        "Onde:\n",
        "$$\\begin{aligned}\n",
        "\\boldsymbol{\\mu} &= \\frac{1}{N}\\sum_i^N \\boldsymbol{x_i}\\\\\n",
        "\\boldsymbol{\\sigma} &= \\sqrt{\\frac{1}{N-1}\\sum_i^N (\\boldsymbol{x_i}-\\boldsymbol{\\mu})^2}\\\\\n",
        "\\end{aligned}$$\n",
        "\n",
        "A \"desnormalização\" pode ser feita por:\n",
        "$$\\boldsymbol{x_i} = \\boldsymbol{\\sigma}\\tilde{\\boldsymbol{x_i}} + \\boldsymbol{\\mu}$$\n",
        "\n",
        "Use a fórmula para normalizar o conjunto de dados `peixe` sem usar nenhum `for` ou `while`."
      ]
    },
    {
      "cell_type": "code",
      "execution_count": null,
      "metadata": {
        "id": "nDjubNw6JH-5",
        "tags": []
      },
      "outputs": [],
      "source": [
        "# Escreva o código aqui"
      ]
    },
    {
      "cell_type": "markdown",
      "metadata": {
        "id": "AQkEeKTeJH-5"
      },
      "source": [
        "### Encontrar raízes de funções\n",
        "\n",
        "Dada uma função $f$, o seguinte procedimento (método de Newton-Raphson) consegue encontrar aproximar zeros desta função:\n",
        "\n",
        "1. Inicialize $\\tilde{x}_0$ com um chute inicial e escolha uma tolerância $\\epsilon$;\n",
        "2. Compute: $$\\tilde{x}_{t} = \\tilde{x}_{t-1} - \\frac{f(\\tilde{x}_{t-1})}{f'(\\tilde{x}_{t-1})}$$\n",
        "3. Repita o passo 2 até que $f(\\tilde{x}_t) \\leq \\epsilon$.\n",
        "\n",
        "Implemente esse procedimento para $f(x) = x^2 - 2$, teste seu resultado computando $\\tilde{x} \\cdot \\tilde{x}$."
      ]
    },
    {
      "cell_type": "code",
      "execution_count": null,
      "metadata": {
        "id": "DBh2aJ1CJH-5",
        "tags": []
      },
      "outputs": [],
      "source": [
        "# Escreva o código aqui"
      ]
    },
    {
      "cell_type": "markdown",
      "metadata": {
        "id": "tjIZlGGgJH-5"
      },
      "source": [
        "# Regressão linear via mínimos quadrados ordinários (OLS)\n",
        "\n",
        "Como visto na aula de regressão linear, dado o seguinte problema:\n",
        "$$\\begin{aligned}\n",
        "\\hat{\\boldsymbol{y}} = \\boldsymbol{X}\\boldsymbol{w}\\\\\n",
        "\\text{Queremos encontrar:}\\\\\n",
        "\\hat{\\boldsymbol{w}} = \\arg\\min_{\\boldsymbol{w}} ||\\boldsymbol{y} - \\boldsymbol{X}\\boldsymbol{w}||^2\n",
        "\\end{aligned}$$\n",
        "\n",
        "Como visto, sabemos que:\n",
        "$$\\hat{\\boldsymbol{w}} = (\\boldsymbol{X}^{\\top}\\boldsymbol{X})^{-1} \\boldsymbol{X}^{\\top}\\boldsymbol{y}$$\n",
        "\n",
        "Obtenha um modelo linear para predizer o comprimento de um peixe a partir de sua idade e da temperatura da água. Para isso, encontre o $\\hat{\\boldsymbol{w}}$ pro dataset `peixe` onde:\n",
        "$$\\boldsymbol{X} = [\\mathbf{1}^{\\top} \\;,\\; \\mathtt{peixe\\underline{}dataset[:,[0,1]}]\\\\\n",
        "\\boldsymbol{y} = \\mathtt{peixe\\underline{}dataset[:,[2]]}$$\n",
        "\n",
        "Sem utilizar estrutura de repetição alguma, calcule a raíz do erro quadrático médio:\n",
        "$$\\mathrm{RMSE} = \\sqrt{\\frac{1}{n}\\sum_i^n (\\boldsymbol{y} - \\hat{\\boldsymbol{y}})^2}$$"
      ]
    },
    {
      "cell_type": "code",
      "execution_count": null,
      "metadata": {
        "id": "2h9hLZC6JH-6",
        "tags": []
      },
      "outputs": [],
      "source": [
        "# Escreva o código aqui"
      ]
    },
    {
      "cell_type": "markdown",
      "metadata": {
        "id": "Jw4ZuSUZJH-6"
      },
      "source": [
        "# Regressão linear via gradiente descendente (GD)\n",
        "\n",
        "Sendo $\\alpha$ um passo de aprendizagem, $N$ o número de observações disponíveis e $t$ a iteração atual do algoritmo, os parâmetros $\\boldsymbol{w}$ podem ser atualizados via algoritmo GD:\n",
        "\n",
        "$$\\boldsymbol{w}(t) = \\boldsymbol{w}(t-1) + \\alpha \\frac{1}{N}\\sum_{i=1}^{N} e_i(t-1) \\boldsymbol{x}_i\\\\\n",
        "\\text{em que } e_i(t-1) = y_i - \\boldsymbol{w}^{\\top}(t-1)\\boldsymbol{x}_i$$\n",
        "\n",
        "Normalize os dados retirando a média e dividindo pelo desvio padrão (entrada e saída). Na predição, desfaça a normalização para computar o RMSE."
      ]
    },
    {
      "cell_type": "code",
      "execution_count": null,
      "metadata": {
        "id": "dG_uWyvJJH-6"
      },
      "outputs": [],
      "source": [
        "# Escreva o código aqui"
      ]
    },
    {
      "cell_type": "markdown",
      "metadata": {
        "id": "6P9cf5XoJH-6"
      },
      "source": [
        "# Regressão linear via gradiente descendente estocástico (SGD)\n",
        "\n",
        "Sendo $\\alpha$ um passo de aprendizagem, $N$ o número de observações disponíveis e $t$ a iteração atual do algoritmo, os parâmetros $\\boldsymbol{w}$ podem ser atualizados via algoritmo SGD:\n",
        "\n",
        "$$\\boldsymbol{w}(t) = \\boldsymbol{w}(t-1) + \\alpha e_i(t-1) \\boldsymbol{x}_i\\\\\n",
        "\\text{em que } e_i(t-1) = y_i - \\boldsymbol{w}^{\\top}(t-1)\\boldsymbol{x}_i$$\n",
        "\n",
        "Normalize os dados retirando a média e dividindo pelo desvio padrão (entrada e saída). Na predição, desfaça a normalização para computar o RMSE."
      ]
    },
    {
      "cell_type": "code",
      "execution_count": null,
      "metadata": {
        "id": "UIbM7zv7JH-7"
      },
      "outputs": [],
      "source": [
        "# Escreva o código aqui"
      ]
    }
  ],
  "metadata": {
    "colab": {
      "provenance": [],
      "toc_visible": true
    },
    "kernelspec": {
      "display_name": "Python 3",
      "language": "python",
      "name": "python3"
    },
    "language_info": {
      "codemirror_mode": {
        "name": "ipython",
        "version": 3
      },
      "file_extension": ".py",
      "mimetype": "text/x-python",
      "name": "python",
      "nbconvert_exporter": "python",
      "pygments_lexer": "ipython3",
      "version": "3.9.16"
    }
  },
  "nbformat": 4,
  "nbformat_minor": 0
}
